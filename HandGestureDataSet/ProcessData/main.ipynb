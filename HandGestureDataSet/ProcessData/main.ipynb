{
 "cells": [
  {
   "cell_type": "code",
   "execution_count": 18,
   "id": "99829a63",
   "metadata": {},
   "outputs": [],
   "source": [
    "import pandas as pd \n",
    "import numpy as np\n",
    "df = pd.read_csv('labelOne.csv')\n",
    "\n"
   ]
  },
  {
   "cell_type": "code",
   "execution_count": 19,
   "id": "dfe618ae",
   "metadata": {},
   "outputs": [
    {
     "name": "stdout",
     "output_type": "stream",
     "text": [
      "<class 'pandas.core.frame.DataFrame'>\n",
      "RangeIndex: 659 entries, 0 to 658\n",
      "Data columns (total 8 columns):\n",
      " #   Column         Non-Null Count  Dtype  \n",
      "---  ------         --------------  -----  \n",
      " 0   numHullPoints  659 non-null    int64  \n",
      " 1   numDefects     659 non-null    int64  \n",
      " 2   bbox_width     659 non-null    int64  \n",
      " 3   bbox_height    659 non-null    int64  \n",
      " 4   aspect_ratio   659 non-null    float64\n",
      " 5   area           659 non-null    float64\n",
      " 6   perimeter      659 non-null    float64\n",
      " 7   gesture_label  659 non-null    object \n",
      "dtypes: float64(3), int64(4), object(1)\n",
      "memory usage: 41.3+ KB\n",
      "None\n",
      "--------------\n",
      "       numHullPoints  numDefects  bbox_width  bbox_height  aspect_ratio  \\\n",
      "count     659.000000  659.000000  659.000000   659.000000    659.000000   \n",
      "mean       19.127466   13.754173  144.781487   295.719272      0.546131   \n",
      "std         2.768498    2.729490   49.738473    55.144947      0.366001   \n",
      "min        11.000000    7.000000   85.000000   119.000000      0.244253   \n",
      "25%        17.000000   12.000000  111.000000   269.000000      0.341568   \n",
      "50%        19.000000   14.000000  119.000000   297.000000      0.415205   \n",
      "75%        21.000000   16.000000  176.500000   330.000000      0.630821   \n",
      "max        27.000000   22.000000  272.000000   401.000000      1.957980   \n",
      "\n",
      "               area    perimeter  \n",
      "count    659.000000   659.000000  \n",
      "mean   18883.353566   860.533712  \n",
      "std     2815.531887   137.235532  \n",
      "min    14828.000000   641.571000  \n",
      "25%    17050.500000   776.174000  \n",
      "50%    18227.500000   853.009000  \n",
      "75%    21003.500000   919.649000  \n",
      "max    26840.000000  2655.850000  \n"
     ]
    }
   ],
   "source": [
    "print(df.info())\n",
    "print(\"--------------\")\n",
    "print(df.describe())"
   ]
  },
  {
   "cell_type": "code",
   "execution_count": 20,
   "id": "167abdc8",
   "metadata": {},
   "outputs": [
    {
     "name": "stdout",
     "output_type": "stream",
     "text": [
      "<class 'pandas.core.frame.DataFrame'>\n",
      "Index: 624 entries, 20 to 658\n",
      "Data columns (total 8 columns):\n",
      " #   Column         Non-Null Count  Dtype  \n",
      "---  ------         --------------  -----  \n",
      " 0   numHullPoints  624 non-null    int64  \n",
      " 1   numDefects     624 non-null    int64  \n",
      " 2   bbox_width     624 non-null    int64  \n",
      " 3   bbox_height    624 non-null    int64  \n",
      " 4   aspect_ratio   624 non-null    float64\n",
      " 5   area           624 non-null    float64\n",
      " 6   perimeter      624 non-null    float64\n",
      " 7   gesture_label  624 non-null    object \n",
      "dtypes: float64(3), int64(4), object(1)\n",
      "memory usage: 43.9+ KB\n",
      "None\n"
     ]
    }
   ],
   "source": [
    "# Remove rows with NaNs\n",
    "df.dropna(inplace=True)\n",
    "\n",
    "# Optional: Outlier removal\n",
    "from scipy.stats import zscore\n",
    "df = df[(np.abs(zscore(df.select_dtypes(include='number'))) < 3).all(axis=1)]\n",
    "print(df.info())\n"
   ]
  },
  {
   "cell_type": "code",
   "execution_count": 21,
   "id": "917181ad",
   "metadata": {},
   "outputs": [
    {
     "name": "stdout",
     "output_type": "stream",
     "text": [
      "     numHullPoints  numDefects  bbox_width  bbox_height  aspect_ratio  \\\n",
      "20              17          13         125          306      0.408497   \n",
      "28              15           9         122          307      0.397394   \n",
      "29              18          11         120          315      0.380952   \n",
      "30              15           9         123          323      0.380805   \n",
      "31              15          10         124          330      0.375758   \n",
      "..             ...         ...         ...          ...           ...   \n",
      "654             22          16         213          225      0.946667   \n",
      "655             11           7         192          245      0.783673   \n",
      "656             15          10         184          257      0.715953   \n",
      "657             15          10         181          262      0.690840   \n",
      "658             16          12         180          265      0.679245   \n",
      "\n",
      "        area  perimeter gesture_label  \n",
      "20   14894.0    766.558      number_1  \n",
      "28   14928.5    770.659      number_1  \n",
      "29   15554.5    779.831      number_1  \n",
      "30   15978.0    799.044      number_1  \n",
      "31   16739.0    825.186      number_1  \n",
      "..       ...        ...           ...  \n",
      "654  23473.0    869.519      number_1  \n",
      "655  19671.5    824.423      number_1  \n",
      "656  17870.5    855.737      number_1  \n",
      "657  17309.0    883.637      number_1  \n",
      "658  17079.5    891.737      number_1  \n",
      "\n",
      "[624 rows x 8 columns]\n"
     ]
    }
   ],
   "source": [
    "print(df)"
   ]
  },
  {
   "cell_type": "code",
   "execution_count": 22,
   "id": "e2cbf3c7",
   "metadata": {},
   "outputs": [],
   "source": [
    "X = df.drop(columns=['gesture_label'])  # All numeric features\n",
    "y = df['gesture_label']                 # Target labels\n"
   ]
  },
  {
   "cell_type": "code",
   "execution_count": 23,
   "id": "b4576f2e",
   "metadata": {},
   "outputs": [],
   "source": [
    "from sklearn.preprocessing import StandardScaler\n",
    "\n",
    "scaler = StandardScaler()\n",
    "X_scaled = scaler.fit_transform(X)  # Use this as input to the model\n"
   ]
  },
  {
   "cell_type": "code",
   "execution_count": 24,
   "id": "491be1d2",
   "metadata": {},
   "outputs": [],
   "source": [
    "from sklearn.preprocessing import LabelEncoder\n",
    "\n",
    "encoder = LabelEncoder()\n",
    "y_encoded = encoder.fit_transform(y)  # Now 'number_1' becomes 0, etc.\n"
   ]
  },
  {
   "cell_type": "code",
   "execution_count": 25,
   "id": "2febd9fb",
   "metadata": {},
   "outputs": [],
   "source": [
    "from sklearn.model_selection import train_test_split\n",
    "\n",
    "X_train, X_test, y_train, y_test = train_test_split(X_scaled, y_encoded, test_size=0.2, random_state=42)\n"
   ]
  },
  {
   "cell_type": "markdown",
   "id": "86f3045e",
   "metadata": {},
   "source": [
    "# Other training options\n",
    "```python\n",
    "\n",
    "Train a Lightweight Model (Good for Raspberry Pi)\n",
    "Option A: SVM (Support Vector Machine)\n",
    "\n",
    "Good accuracy, fast inference on small datasets\n",
    "\n",
    "from sklearn.svm import SVC\n",
    "\n",
    "model = SVC(kernel='linear')  # Try 'rbf' too if needed\n",
    "model.fit(X_train, y_train)\n",
    "\n",
    "Option B: Random Forest (if you want to understand feature importance)\n",
    "\n",
    "from sklearn.ensemble import RandomForestClassifier\n",
    "\n",
    "model = RandomForestClassifier(n_estimators=50, max_depth=5)\n",
    "model.fit(X_train, y_train)\n",
    "\n",
    "Option C: Tiny Neural Network (for Edge Deployment)\n",
    "\n",
    "from sklearn.neural_network import MLPClassifier\n",
    "\n",
    "model = MLPClassifier(hidden_layer_sizes=(16,), max_iter=300)\n",
    "model.fit(X_train, y_train)\n",
    "\n",
    "```"
   ]
  },
  {
   "cell_type": "code",
   "execution_count": 26,
   "id": "e1734435",
   "metadata": {},
   "outputs": [
    {
     "ename": "ValueError",
     "evalue": "The number of classes has to be greater than one; got 1 class",
     "output_type": "error",
     "traceback": [
      "\u001b[0;31m---------------------------------------------------------------------------\u001b[0m",
      "\u001b[0;31mValueError\u001b[0m                                Traceback (most recent call last)",
      "Cell \u001b[0;32mIn[26], line 5\u001b[0m\n\u001b[1;32m      2\u001b[0m \u001b[38;5;28;01mfrom\u001b[39;00m \u001b[38;5;21;01msklearn\u001b[39;00m\u001b[38;5;21;01m.\u001b[39;00m\u001b[38;5;21;01msvm\u001b[39;00m \u001b[38;5;28;01mimport\u001b[39;00m SVC\n\u001b[1;32m      4\u001b[0m model \u001b[38;5;241m=\u001b[39m SVC(kernel\u001b[38;5;241m=\u001b[39m\u001b[38;5;124m'\u001b[39m\u001b[38;5;124mlinear\u001b[39m\u001b[38;5;124m'\u001b[39m)  \u001b[38;5;66;03m# Try 'rbf' too if needed\u001b[39;00m\n\u001b[0;32m----> 5\u001b[0m \u001b[43mmodel\u001b[49m\u001b[38;5;241;43m.\u001b[39;49m\u001b[43mfit\u001b[49m\u001b[43m(\u001b[49m\u001b[43mX_train\u001b[49m\u001b[43m,\u001b[49m\u001b[43m \u001b[49m\u001b[43my_train\u001b[49m\u001b[43m)\u001b[49m\n",
      "File \u001b[0;32m~/python3.11/lib/python3.11/site-packages/sklearn/base.py:1363\u001b[0m, in \u001b[0;36m_fit_context.<locals>.decorator.<locals>.wrapper\u001b[0;34m(estimator, *args, **kwargs)\u001b[0m\n\u001b[1;32m   1356\u001b[0m     estimator\u001b[38;5;241m.\u001b[39m_validate_params()\n\u001b[1;32m   1358\u001b[0m \u001b[38;5;28;01mwith\u001b[39;00m config_context(\n\u001b[1;32m   1359\u001b[0m     skip_parameter_validation\u001b[38;5;241m=\u001b[39m(\n\u001b[1;32m   1360\u001b[0m         prefer_skip_nested_validation \u001b[38;5;129;01mor\u001b[39;00m global_skip_validation\n\u001b[1;32m   1361\u001b[0m     )\n\u001b[1;32m   1362\u001b[0m ):\n\u001b[0;32m-> 1363\u001b[0m     \u001b[38;5;28;01mreturn\u001b[39;00m \u001b[43mfit_method\u001b[49m\u001b[43m(\u001b[49m\u001b[43mestimator\u001b[49m\u001b[43m,\u001b[49m\u001b[43m \u001b[49m\u001b[38;5;241;43m*\u001b[39;49m\u001b[43margs\u001b[49m\u001b[43m,\u001b[49m\u001b[43m \u001b[49m\u001b[38;5;241;43m*\u001b[39;49m\u001b[38;5;241;43m*\u001b[39;49m\u001b[43mkwargs\u001b[49m\u001b[43m)\u001b[49m\n",
      "File \u001b[0;32m~/python3.11/lib/python3.11/site-packages/sklearn/svm/_base.py:207\u001b[0m, in \u001b[0;36mBaseLibSVM.fit\u001b[0;34m(self, X, y, sample_weight)\u001b[0m\n\u001b[1;32m    196\u001b[0m \u001b[38;5;28;01melse\u001b[39;00m:\n\u001b[1;32m    197\u001b[0m     X, y \u001b[38;5;241m=\u001b[39m validate_data(\n\u001b[1;32m    198\u001b[0m         \u001b[38;5;28mself\u001b[39m,\n\u001b[1;32m    199\u001b[0m         X,\n\u001b[0;32m   (...)\u001b[0m\n\u001b[1;32m    204\u001b[0m         accept_large_sparse\u001b[38;5;241m=\u001b[39m\u001b[38;5;28;01mFalse\u001b[39;00m,\n\u001b[1;32m    205\u001b[0m     )\n\u001b[0;32m--> 207\u001b[0m y \u001b[38;5;241m=\u001b[39m \u001b[38;5;28;43mself\u001b[39;49m\u001b[38;5;241;43m.\u001b[39;49m\u001b[43m_validate_targets\u001b[49m\u001b[43m(\u001b[49m\u001b[43my\u001b[49m\u001b[43m)\u001b[49m\n\u001b[1;32m    209\u001b[0m sample_weight \u001b[38;5;241m=\u001b[39m np\u001b[38;5;241m.\u001b[39masarray(\n\u001b[1;32m    210\u001b[0m     [] \u001b[38;5;28;01mif\u001b[39;00m sample_weight \u001b[38;5;129;01mis\u001b[39;00m \u001b[38;5;28;01mNone\u001b[39;00m \u001b[38;5;28;01melse\u001b[39;00m sample_weight, dtype\u001b[38;5;241m=\u001b[39mnp\u001b[38;5;241m.\u001b[39mfloat64\n\u001b[1;32m    211\u001b[0m )\n\u001b[1;32m    212\u001b[0m solver_type \u001b[38;5;241m=\u001b[39m LIBSVM_IMPL\u001b[38;5;241m.\u001b[39mindex(\u001b[38;5;28mself\u001b[39m\u001b[38;5;241m.\u001b[39m_impl)\n",
      "File \u001b[0;32m~/python3.11/lib/python3.11/site-packages/sklearn/svm/_base.py:751\u001b[0m, in \u001b[0;36mBaseSVC._validate_targets\u001b[0;34m(self, y)\u001b[0m\n\u001b[1;32m    749\u001b[0m \u001b[38;5;28mself\u001b[39m\u001b[38;5;241m.\u001b[39mclass_weight_ \u001b[38;5;241m=\u001b[39m compute_class_weight(\u001b[38;5;28mself\u001b[39m\u001b[38;5;241m.\u001b[39mclass_weight, classes\u001b[38;5;241m=\u001b[39m\u001b[38;5;28mcls\u001b[39m, y\u001b[38;5;241m=\u001b[39my_)\n\u001b[1;32m    750\u001b[0m \u001b[38;5;28;01mif\u001b[39;00m \u001b[38;5;28mlen\u001b[39m(\u001b[38;5;28mcls\u001b[39m) \u001b[38;5;241m<\u001b[39m \u001b[38;5;241m2\u001b[39m:\n\u001b[0;32m--> 751\u001b[0m     \u001b[38;5;28;01mraise\u001b[39;00m \u001b[38;5;167;01mValueError\u001b[39;00m(\n\u001b[1;32m    752\u001b[0m         \u001b[38;5;124m\"\u001b[39m\u001b[38;5;124mThe number of classes has to be greater than one; got \u001b[39m\u001b[38;5;132;01m%d\u001b[39;00m\u001b[38;5;124m class\u001b[39m\u001b[38;5;124m\"\u001b[39m\n\u001b[1;32m    753\u001b[0m         \u001b[38;5;241m%\u001b[39m \u001b[38;5;28mlen\u001b[39m(\u001b[38;5;28mcls\u001b[39m)\n\u001b[1;32m    754\u001b[0m     )\n\u001b[1;32m    756\u001b[0m \u001b[38;5;28mself\u001b[39m\u001b[38;5;241m.\u001b[39mclasses_ \u001b[38;5;241m=\u001b[39m \u001b[38;5;28mcls\u001b[39m\n\u001b[1;32m    758\u001b[0m \u001b[38;5;28;01mreturn\u001b[39;00m np\u001b[38;5;241m.\u001b[39masarray(y, dtype\u001b[38;5;241m=\u001b[39mnp\u001b[38;5;241m.\u001b[39mfloat64, order\u001b[38;5;241m=\u001b[39m\u001b[38;5;124m\"\u001b[39m\u001b[38;5;124mC\u001b[39m\u001b[38;5;124m\"\u001b[39m)\n",
      "\u001b[0;31mValueError\u001b[0m: The number of classes has to be greater than one; got 1 class"
     ]
    }
   ],
   "source": [
    "# Training model \n",
    "from sklearn.svm import SVC\n",
    "\n",
    "model = SVC(kernel='linear')  # Try 'rbf' too if needed\n",
    "model.fit(X_train, y_train)\n"
   ]
  },
  {
   "cell_type": "code",
   "execution_count": null,
   "id": "a5eeae9c",
   "metadata": {},
   "outputs": [],
   "source": [
    "from sklearn.metrics import accuracy_score, classification_report\n",
    "\n",
    "y_pred = model.predict(X_test)\n",
    "print(\"Accuracy:\", accuracy_score(y_test, y_pred))\n",
    "print(classification_report(y_test, y_pred, target_names=encoder.classes_))\n"
   ]
  },
  {
   "cell_type": "code",
   "execution_count": null,
   "id": "6c70561a",
   "metadata": {},
   "outputs": [],
   "source": [
    "import joblib\n",
    "\n",
    "joblib.dump(model, 'gesture_model.pkl')\n",
    "joblib.dump(scaler, 'scaler.pkl')\n",
    "joblib.dump(encoder, 'encoder.pkl')\n"
   ]
  }
 ],
 "metadata": {
  "kernelspec": {
   "display_name": "python3.11",
   "language": "python",
   "name": "python3"
  },
  "language_info": {
   "codemirror_mode": {
    "name": "ipython",
    "version": 3
   },
   "file_extension": ".py",
   "mimetype": "text/x-python",
   "name": "python",
   "nbconvert_exporter": "python",
   "pygments_lexer": "ipython3",
   "version": "3.11.2"
  }
 },
 "nbformat": 4,
 "nbformat_minor": 5
}
